{
 "cells": [
  {
   "cell_type": "code",
   "execution_count": 1,
   "id": "536aec86-1829-4749-bbb0-97c9e766a838",
   "metadata": {},
   "outputs": [
    {
     "name": "stdout",
     "output_type": "stream",
     "text": [
      "['01', '02', '03', '04', '05', '06', '07', '08', '09', '10', '11', '12', '13', '14', '15', '16', '17', '18', '19', '20', '21', '22', '23', '24', '25', '26', '27', '28', '29', '30', '31', '32']\n"
     ]
    }
   ],
   "source": [
    "import pickle\n",
    "import numpy as np\n",
    "\n",
    "def read_data(filename):\n",
    "    x = pickle._Unpickler(open(filename, 'rb'))\n",
    "    x.encoding = 'latin1'\n",
    "    data = x.load()\n",
    "    return data                                 #creating seperate file path for each 32 participantes\n",
    "\n",
    "files = []\n",
    "for n in range(1, 33):\n",
    "    s = ''\n",
    "    if n < 10:\n",
    "        s += '0'\n",
    "    s += str(n)\n",
    "    files.append(s)\n",
    "print(files)\n"
   ]
  },
  {
   "cell_type": "code",
   "execution_count": 2,
   "id": "3597b76e-ab3f-48fd-80df-a306b1696f0b",
   "metadata": {},
   "outputs": [
    {
     "name": "stdout",
     "output_type": "stream",
     "text": [
      "32\n",
      "32\n"
     ]
    }
   ],
   "source": [
    "labels = []\n",
    "data = []\n",
    "for i in files:\n",
    "    fileph = \"data_preprocessed_python/s\" + i + \".dat\"\n",
    "    d = read_data(fileph)\n",
    "    labels.append(d['labels'])\n",
    "    data.append(d['data'])\n",
    "print(len(labels))                             #creating seperate list for label and data\n",
    "print(len(data))\n"
   ]
  },
  {
   "cell_type": "code",
   "execution_count": 3,
   "id": "91429c44-facd-4ecb-b014-6509c15fdd50",
   "metadata": {},
   "outputs": [
    {
     "name": "stdout",
     "output_type": "stream",
     "text": [
      "(32, 40, 4)\n",
      "(32, 40, 40, 8064)\n",
      "(1280, 4)\n",
      "(1280, 40, 8064)\n",
      "(1280, 32, 8064)\n"
     ]
    }
   ],
   "source": [
    "labels = np.array(labels)\n",
    "data = np.array(data)\n",
    "print(labels.shape)      # 40 trials,4 emotion dimensions\n",
    "print(data.shape)        #40 trials,40 channels,8064 data points\n",
    "\n",
    "labels = labels.reshape(1280, 4)         #32 X 4 1280 trials, 4 emotion dimensions\n",
    "data = data.reshape(1280, 40, 8064)      #32 X 4 1280 trials,40 channels,8064 data points\n",
    "print(labels.shape)\n",
    "print(data.shape)\n",
    "\n",
    "eeg_data = data[:,:32,:]                #extracting 32 EEG channels out of total 40 channels\n",
    "print(eeg_data.shape)\n"
   ]
  },
  {
   "cell_type": "code",
   "execution_count": 4,
   "id": "96635152-d410-4766-8c5e-303d85b4c8c5",
   "metadata": {},
   "outputs": [
    {
     "data": {
      "text/html": [
       "<div>\n",
       "<style scoped>\n",
       "    .dataframe tbody tr th:only-of-type {\n",
       "        vertical-align: middle;\n",
       "    }\n",
       "\n",
       "    .dataframe tbody tr th {\n",
       "        vertical-align: top;\n",
       "    }\n",
       "\n",
       "    .dataframe thead th {\n",
       "        text-align: right;\n",
       "    }\n",
       "</style>\n",
       "<table border=\"1\" class=\"dataframe\">\n",
       "  <thead>\n",
       "    <tr style=\"text-align: right;\">\n",
       "      <th></th>\n",
       "      <th>Valence</th>\n",
       "      <th>Arousal</th>\n",
       "      <th>Dominance</th>\n",
       "      <th>Liking</th>\n",
       "    </tr>\n",
       "  </thead>\n",
       "  <tbody>\n",
       "    <tr>\n",
       "      <th>0</th>\n",
       "      <td>7.71</td>\n",
       "      <td>7.60</td>\n",
       "      <td>6.90</td>\n",
       "      <td>7.83</td>\n",
       "    </tr>\n",
       "    <tr>\n",
       "      <th>1</th>\n",
       "      <td>8.10</td>\n",
       "      <td>7.31</td>\n",
       "      <td>7.28</td>\n",
       "      <td>8.47</td>\n",
       "    </tr>\n",
       "    <tr>\n",
       "      <th>2</th>\n",
       "      <td>8.58</td>\n",
       "      <td>7.54</td>\n",
       "      <td>9.00</td>\n",
       "      <td>7.08</td>\n",
       "    </tr>\n",
       "    <tr>\n",
       "      <th>3</th>\n",
       "      <td>4.94</td>\n",
       "      <td>6.01</td>\n",
       "      <td>6.12</td>\n",
       "      <td>8.06</td>\n",
       "    </tr>\n",
       "    <tr>\n",
       "      <th>4</th>\n",
       "      <td>6.96</td>\n",
       "      <td>3.92</td>\n",
       "      <td>7.19</td>\n",
       "      <td>6.05</td>\n",
       "    </tr>\n",
       "    <tr>\n",
       "      <th>...</th>\n",
       "      <td>...</td>\n",
       "      <td>...</td>\n",
       "      <td>...</td>\n",
       "      <td>...</td>\n",
       "    </tr>\n",
       "    <tr>\n",
       "      <th>1275</th>\n",
       "      <td>3.91</td>\n",
       "      <td>6.96</td>\n",
       "      <td>5.82</td>\n",
       "      <td>3.12</td>\n",
       "    </tr>\n",
       "    <tr>\n",
       "      <th>1276</th>\n",
       "      <td>2.81</td>\n",
       "      <td>6.13</td>\n",
       "      <td>6.06</td>\n",
       "      <td>1.04</td>\n",
       "    </tr>\n",
       "    <tr>\n",
       "      <th>1277</th>\n",
       "      <td>3.05</td>\n",
       "      <td>7.01</td>\n",
       "      <td>5.10</td>\n",
       "      <td>1.10</td>\n",
       "    </tr>\n",
       "    <tr>\n",
       "      <th>1278</th>\n",
       "      <td>3.99</td>\n",
       "      <td>7.17</td>\n",
       "      <td>4.85</td>\n",
       "      <td>1.00</td>\n",
       "    </tr>\n",
       "    <tr>\n",
       "      <th>1279</th>\n",
       "      <td>7.15</td>\n",
       "      <td>4.03</td>\n",
       "      <td>9.00</td>\n",
       "      <td>1.88</td>\n",
       "    </tr>\n",
       "  </tbody>\n",
       "</table>\n",
       "<p>1280 rows × 4 columns</p>\n",
       "</div>"
      ],
      "text/plain": [
       "      Valence  Arousal  Dominance  Liking\n",
       "0        7.71     7.60       6.90    7.83\n",
       "1        8.10     7.31       7.28    8.47\n",
       "2        8.58     7.54       9.00    7.08\n",
       "3        4.94     6.01       6.12    8.06\n",
       "4        6.96     3.92       7.19    6.05\n",
       "...       ...      ...        ...     ...\n",
       "1275     3.91     6.96       5.82    3.12\n",
       "1276     2.81     6.13       6.06    1.04\n",
       "1277     3.05     7.01       5.10    1.10\n",
       "1278     3.99     7.17       4.85    1.00\n",
       "1279     7.15     4.03       9.00    1.88\n",
       "\n",
       "[1280 rows x 4 columns]"
      ]
     },
     "execution_count": 4,
     "metadata": {},
     "output_type": "execute_result"
    }
   ],
   "source": [
    "import pandas as pd\n",
    "df_label = pd.DataFrame({'Valence': labels[:,0], 'Arousal': labels[:,1],\n",
    "                        'Dominance': labels[:,2], 'Liking': labels[:,3]})     #converting it label to dataframes for the simplification\n",
    "df_label"
   ]
  },
  {
   "cell_type": "code",
   "execution_count": 5,
   "id": "39fedfcd-fb93-4d95-9e06-277f98be7851",
   "metadata": {},
   "outputs": [],
   "source": [
    "label_name = [\"valence\", \"arousal\", \"dominance\", \"liking\"]\n",
    "labels_valence = []\n",
    "labels_arousal = []\n",
    "labels_dominance = []\n",
    "labels_liking = []\n",
    "\n",
    "for la in labels:                                       #creating seperate list for each emotion dimension\n",
    "    if la[0] > 5:                                       #Conversion of each emotion dimension to binary value\n",
    "        labels_valence.append(1)                        \n",
    "    else:\n",
    "        labels_valence.append(0)\n",
    "    \n",
    "    if la[1] > 5:\n",
    "        labels_arousal.append(1)\n",
    "    else:\n",
    "        labels_arousal.append(0)\n",
    "    \n",
    "    if la[2] > 5:\n",
    "        labels_dominance.append(1)\n",
    "    else:\n",
    "        labels_dominance.append(0)\n",
    "    \n",
    "    if la[3] > 6:\n",
    "        labels_liking.append(1)\n",
    "    else:\n",
    "        labels_liking.append(0)\n"
   ]
  },
  {
   "cell_type": "code",
   "execution_count": 6,
   "id": "8a9a2096-52d4-42f4-acc8-f5d6b6a03879",
   "metadata": {},
   "outputs": [
    {
     "data": {
      "text/html": [
       "<div>\n",
       "<style scoped>\n",
       "    .dataframe tbody tr th:only-of-type {\n",
       "        vertical-align: middle;\n",
       "    }\n",
       "\n",
       "    .dataframe tbody tr th {\n",
       "        vertical-align: top;\n",
       "    }\n",
       "\n",
       "    .dataframe thead th {\n",
       "        text-align: right;\n",
       "    }\n",
       "</style>\n",
       "<table border=\"1\" class=\"dataframe\">\n",
       "  <thead>\n",
       "    <tr style=\"text-align: right;\">\n",
       "      <th></th>\n",
       "      <th>Valence</th>\n",
       "      <th>Arousal</th>\n",
       "      <th>Dominance</th>\n",
       "      <th>Liking</th>\n",
       "    </tr>\n",
       "  </thead>\n",
       "  <tbody>\n",
       "    <tr>\n",
       "      <th>0</th>\n",
       "      <td>1</td>\n",
       "      <td>1</td>\n",
       "      <td>1</td>\n",
       "      <td>1</td>\n",
       "    </tr>\n",
       "    <tr>\n",
       "      <th>1</th>\n",
       "      <td>1</td>\n",
       "      <td>1</td>\n",
       "      <td>1</td>\n",
       "      <td>1</td>\n",
       "    </tr>\n",
       "    <tr>\n",
       "      <th>2</th>\n",
       "      <td>1</td>\n",
       "      <td>1</td>\n",
       "      <td>1</td>\n",
       "      <td>1</td>\n",
       "    </tr>\n",
       "    <tr>\n",
       "      <th>3</th>\n",
       "      <td>0</td>\n",
       "      <td>1</td>\n",
       "      <td>1</td>\n",
       "      <td>1</td>\n",
       "    </tr>\n",
       "    <tr>\n",
       "      <th>4</th>\n",
       "      <td>1</td>\n",
       "      <td>0</td>\n",
       "      <td>1</td>\n",
       "      <td>1</td>\n",
       "    </tr>\n",
       "    <tr>\n",
       "      <th>...</th>\n",
       "      <td>...</td>\n",
       "      <td>...</td>\n",
       "      <td>...</td>\n",
       "      <td>...</td>\n",
       "    </tr>\n",
       "    <tr>\n",
       "      <th>1275</th>\n",
       "      <td>0</td>\n",
       "      <td>1</td>\n",
       "      <td>1</td>\n",
       "      <td>0</td>\n",
       "    </tr>\n",
       "    <tr>\n",
       "      <th>1276</th>\n",
       "      <td>0</td>\n",
       "      <td>1</td>\n",
       "      <td>1</td>\n",
       "      <td>0</td>\n",
       "    </tr>\n",
       "    <tr>\n",
       "      <th>1277</th>\n",
       "      <td>0</td>\n",
       "      <td>1</td>\n",
       "      <td>1</td>\n",
       "      <td>0</td>\n",
       "    </tr>\n",
       "    <tr>\n",
       "      <th>1278</th>\n",
       "      <td>0</td>\n",
       "      <td>1</td>\n",
       "      <td>0</td>\n",
       "      <td>0</td>\n",
       "    </tr>\n",
       "    <tr>\n",
       "      <th>1279</th>\n",
       "      <td>1</td>\n",
       "      <td>0</td>\n",
       "      <td>1</td>\n",
       "      <td>0</td>\n",
       "    </tr>\n",
       "  </tbody>\n",
       "</table>\n",
       "<p>1280 rows × 4 columns</p>\n",
       "</div>"
      ],
      "text/plain": [
       "      Valence  Arousal  Dominance  Liking\n",
       "0           1        1          1       1\n",
       "1           1        1          1       1\n",
       "2           1        1          1       1\n",
       "3           0        1          1       1\n",
       "4           1        0          1       1\n",
       "...       ...      ...        ...     ...\n",
       "1275        0        1          1       0\n",
       "1276        0        1          1       0\n",
       "1277        0        1          1       0\n",
       "1278        0        1          0       0\n",
       "1279        1        0          1       0\n",
       "\n",
       "[1280 rows x 4 columns]"
      ]
     },
     "execution_count": 6,
     "metadata": {},
     "output_type": "execute_result"
    }
   ],
   "source": [
    "df_label_bin = pd.DataFrame({'Valence': labels_valence, 'Arousal': labels_arousal, \n",
    "                            'Dominance': labels_dominance, 'Liking': labels_liking})  #creating dataframes for simplification\n",
    "df_label_bin"
   ]
  },
  {
   "cell_type": "code",
   "execution_count": 7,
   "id": "2ea61530-451a-400e-a1f3-0254c6bd2d2f",
   "metadata": {},
   "outputs": [
    {
     "name": "stdout",
     "output_type": "stream",
     "text": [
      "(1280, 32, 2016)\n"
     ]
    }
   ],
   "source": [
    "data_downsampled = eeg_data[:, :, ::4]  # Downsample by a factor of 4\n",
    "print(data_downsampled.shape)           #takes the 4'th data point by preserving the key features"
   ]
  },
  {
   "cell_type": "code",
   "execution_count": 8,
   "id": "b8e82de5-6b68-4ccf-aaa4-b60d301e0121",
   "metadata": {},
   "outputs": [
    {
     "name": "stdout",
     "output_type": "stream",
     "text": [
      "(1280, 32, 2016)\n"
     ]
    }
   ],
   "source": [
    "data_baseline_removed = data_downsampled - np.mean(data_downsampled, axis=2, keepdims=True)\n",
    "print(data_baseline_removed.shape)         #baseline removal by subtracting mean of each channel for every trial which ensures that only variations in siganl are considerd improves SNR"
   ]
  },
  {
   "cell_type": "code",
   "execution_count": 9,
   "id": "4b879348-7d42-4617-9b20-fb092cea0115",
   "metadata": {},
   "outputs": [
    {
     "name": "stdout",
     "output_type": "stream",
     "text": [
      "(1280, 32, 2016)\n"
     ]
    }
   ],
   "source": [
    "from scipy.signal import butter, lfilter\n",
    "\n",
    "def butter_bandpass(lowcut, highcut, fs, order=5):\n",
    "    nyq = 0.5 * fs\n",
    "    low = lowcut / nyq\n",
    "    high = highcut / nyq\n",
    "    b, a = butter(order, [low, high], btype='band')\n",
    "    return b, a\n",
    "\n",
    "def bandpass_filter(data, lowcut, highcut, fs, order=5):\n",
    "    b, a = butter_bandpass(lowcut, highcut, fs, order=order)\n",
    "    y = lfilter(b, a, data, axis=-1)\n",
    "    return y\n",
    "\n",
    "# Apply bandpass filter                                                      #bandpass filtering only relevant frequency are considers from 4-45(alpha,beta,gamma)\n",
    "fs = 128  # Sampling rate (Hz)\n",
    "lowcut = 4  # Lower bound of bandpass filter (Hz)\n",
    "highcut = 45  # Upper bound of bandpass filter (Hz)\n",
    "\n",
    "data_filtered = bandpass_filter(data_baseline_removed, lowcut, highcut, fs)\n",
    "print(data_filtered.shape)\n"
   ]
  },
  {
   "cell_type": "code",
   "execution_count": 10,
   "id": "9d3850cb-639d-4d38-9ad5-0a2c1dd988c6",
   "metadata": {},
   "outputs": [
    {
     "name": "stdout",
     "output_type": "stream",
     "text": [
      "(1280, 32, 2016)\n"
     ]
    }
   ],
   "source": [
    "data_CAR = data_filtered - np.mean(data_filtered, axis=1, keepdims=True)\n",
    "print(data_CAR.shape)                       #common avg referencing removes common noise among all the channels\n",
    "  "
   ]
  },
  {
   "cell_type": "code",
   "execution_count": 11,
   "id": "cb0e9b5a-aac2-4f31-a4d4-ff332e2e15c4",
   "metadata": {},
   "outputs": [
    {
     "name": "stdout",
     "output_type": "stream",
     "text": [
      "40\n",
      "(32, 32, 2016)\n"
     ]
    }
   ],
   "source": [
    "num_trials = 40\n",
    "trial_data = np.array_split(data_CAR, num_trials, axis=0)\n",
    "print(len(trial_data))\n",
    "print(trial_data[0].shape)"
   ]
  },
  {
   "cell_type": "code",
   "execution_count": 12,
   "id": "610e1a6a-8498-4bc8-b07b-7e7ae6f6afd9",
   "metadata": {},
   "outputs": [
    {
     "name": "stdout",
     "output_type": "stream",
     "text": [
      "(1280, 32)\n"
     ]
    }
   ],
   "source": [
    "import math\n",
    "\n",
    "def differential_entropy(data):\n",
    "    return 0.5 * np.log2(2 * math.pi * math.e * np.var(data, axis=-1))\n",
    "                                        #DE computed as logarithmic of signal variance widely use to classify emotional states accurately\n",
    "# Extract DE features\n",
    "DE_features = differential_entropy(data_CAR)\n",
    "print(DE_features.shape)\n"
   ]
  },
  {
   "cell_type": "code",
   "execution_count": 13,
   "id": "154582c4-7fd0-4bcf-bd50-a3aaf20713fa",
   "metadata": {},
   "outputs": [
    {
     "name": "stdout",
     "output_type": "stream",
     "text": [
      "Requirement already satisfied: scipy==1.13.1 in /Library/Frameworks/Python.framework/Versions/3.12/lib/python3.12/site-packages (1.13.1)\n",
      "Requirement already satisfied: numpy<2.3,>=1.22.4 in /Library/Frameworks/Python.framework/Versions/3.12/lib/python3.12/site-packages (from scipy==1.13.1) (1.26.4)\n",
      "Note: you may need to restart the kernel to use updated packages.\n"
     ]
    }
   ],
   "source": [
    "pip install scipy==1.13.1"
   ]
  },
  {
   "cell_type": "code",
   "execution_count": 14,
   "id": "8145f8fb-55d0-4d20-98f0-baef6634564e",
   "metadata": {},
   "outputs": [],
   "source": [
    "import scipy\n",
    "from scipy.signal import welch\n",
    "from scipy.integrate import simps\n",
    "\n",
    "def bandpower(data, sf, band):\n",
    "    band = np.asarray(band)\n",
    "    low, high = band\n",
    "    nperseg = (2 / low) * sf\n",
    "    freqs, psd = welch(data, sf, nperseg=nperseg)\n",
    "    freq_res = freqs[1] - freqs[0]\n",
    "    idx_band = np.logical_and(freqs >= low, freqs <= high)\n",
    "    bp = simps(psd[idx_band], dx=freq_res)\n",
    "    return bp\n",
    "def get_band_power(people, channel, band):\n",
    "    bd = (0,0)\n",
    "    if (band == \"delta\"):\n",
    "        bd = (0.5,4)                              #calculates band power for different frequency ranges.\n",
    "    if (band == \"theta\"):\n",
    "        bd = (4,8)\n",
    "    elif (band == \"alpha\"):\n",
    "        bd = (8,12)\n",
    "    elif (band == \"beta\"):\n",
    "        bd = (12,30)\n",
    "    elif (band == \"gamma\"):\n",
    "        bd = (30,64)\n",
    "    return bandpower(eeg_data[people,channel], 128, bd)"
   ]
  },
  {
   "cell_type": "code",
   "execution_count": 15,
   "id": "5afd972f-0525-4964-a6b7-dc36e6a2d4d5",
   "metadata": {},
   "outputs": [
    {
     "name": "stderr",
     "output_type": "stream",
     "text": [
      "/var/folders/4v/m7_zmbx51q1821mk6jcl41v40000gn/T/ipykernel_85381/2321714312.py:12: DeprecationWarning: 'scipy.integrate.simps' is deprecated in favour of 'scipy.integrate.simpson' and will be removed in SciPy 1.14.0\n",
      "  bp = simps(psd[idx_band], dx=freq_res)\n"
     ]
    }
   ],
   "source": [
    "eeg_band = []\n",
    "for i in range (len(eeg_data)):\n",
    "    for j in range (len(eeg_data[0])):\n",
    "        eeg_band.append(get_band_power(i,j,\"delta\"))   #extract band power in delta frequency for all the individuals and channels because delta wave provides crucial info about \n",
    "                                                       #brain activity and provides wide range of brain signal.\n",
    "        eeg_band.append(get_band_power(i,j,\"theta\"))\n",
    "        eeg_band.append(get_band_power(i,j,\"alpha\"))\n",
    "        eeg_band.append(get_band_power(i,j,\"beta\"))\n",
    "        eeg_band.append(get_band_power(i,j,\"gamma\"))"
   ]
  },
  {
   "cell_type": "code",
   "execution_count": 16,
   "id": "1ee1e38f-44c2-445a-96f0-93a76625f01d",
   "metadata": {},
   "outputs": [
    {
     "name": "stdout",
     "output_type": "stream",
     "text": [
      "(1280, 160)\n",
      "(1280, 160)\n"
     ]
    }
   ],
   "source": [
    "eeg_band = np.array(eeg_band)\n",
    "eeg_band = eeg_band.reshape((1280,160)) \n",
    "print(eeg_band.shape)\n",
    "np.save(\"eeg_band.npy\", eeg_band)\n",
    "eeg_band = np.load(\"eeg_band.npy\")\n",
    "print(eeg_band.shape)\n"
   ]
  },
  {
   "cell_type": "code",
   "execution_count": 17,
   "id": "576c3e5c-7c32-4cce-bd04-91a19c6db841",
   "metadata": {},
   "outputs": [
    {
     "name": "stdout",
     "output_type": "stream",
     "text": [
      "(1280, 160)\n",
      "(1280, 13041)\n",
      "(1280, 1000)\n"
     ]
    }
   ],
   "source": [
    "data_x = eeg_band\n",
    "print(data_x.shape)\n",
    "label_y = labels_arousal\n",
    "trainscores = []\n",
    "testscores = []\n",
    "X = data_x                                                 #preprocessing\n",
    "from sklearn import preprocessing                          #feature_expansion- Capture non-linear relationships.\n",
    "poly = preprocessing.PolynomialFeatures(degree=2)          #scaling\n",
    "X = poly.fit_transform(X)                                  #normalization  -Ensures all features are on the same scale and normalized for better classifier performance.\n",
    "min_max_scaler = preprocessing.MinMaxScaler()              #PCA: Reduces the dimensionality to 1000 components, speeding up training while retaining important variance.\n",
    "X=min_max_scaler.fit_transform(X)\n",
    "X = preprocessing.normalize(X, norm='l1')\n",
    "print(X.shape)\n",
    "from sklearn.decomposition import PCA\n",
    "pca = PCA(n_components=1000)\n",
    "X=pca.fit_transform(X)\n",
    "print(X.shape)\n",
    "\n",
    "from sklearn.model_selection import train_test_split\n",
    "X_train, X_test, y_train, y_test = train_test_split(X, label_y)   #TRAIN-TEST SPLIT\n"
   ]
  },
  {
   "cell_type": "code",
   "execution_count": 18,
   "id": "7f7c5d83-4661-44d5-b346-7a0a8ed349d1",
   "metadata": {},
   "outputs": [
    {
     "name": "stdout",
     "output_type": "stream",
     "text": [
      "train_score： 0.7104166666666667\n",
      "test_score： 0.6125\n"
     ]
    }
   ],
   "source": [
    "from sklearn.neighbors import KNeighborsClassifier\n",
    "knn = KNeighborsClassifier(n_neighbors=7)\n",
    "knn.fit(X_train, y_train,)\n",
    "train_score=knn.score(X_train,y_train)\n",
    "test_score=knn.score(X_test,y_test)\n",
    "print(\"train_score：\", train_score)\n",
    "print(\"test_score：\", test_score)\n",
    "trainscores.append(train_score)\n",
    "testscores.append(test_score)"
   ]
  },
  {
   "cell_type": "code",
   "execution_count": 19,
   "id": "0ce368c2-5246-4035-8d1f-6214eedf85cc",
   "metadata": {},
   "outputs": [
    {
     "name": "stdout",
     "output_type": "stream",
     "text": [
      "(1280, 160)\n",
      "(1280, 100)\n",
      "train_score： 0.9875\n",
      "test_score： 0.56875\n"
     ]
    }
   ],
   "source": [
    "X = data_x\n",
    "from sklearn import preprocessing\n",
    "min_max_scaler = preprocessing.MinMaxScaler()\n",
    "X=min_max_scaler.fit_transform(X)\n",
    "print(X.shape)\n",
    "from sklearn.decomposition import PCA\n",
    "pca = PCA(n_components=100)\n",
    "X=pca.fit_transform(X)\n",
    "print(X.shape)\n",
    "from sklearn.model_selection import train_test_split\n",
    "X_train, X_test, y_train, y_test = train_test_split(data_x, label_y)\n",
    "from sklearn import tree\n",
    "dtree = tree.DecisionTreeClassifier(max_depth=20,min_samples_split=4)\n",
    "dtree = dtree.fit(X_train, y_train)\n",
    "train_score=dtree.score(X_train,y_train)\n",
    "test_score=dtree.score(X_test,y_test)\n",
    "print(\"train_score：\", train_score)\n",
    "print(\"test_score：\", test_score)\n",
    "trainscores.append(train_score)\n",
    "testscores.append(test_score)"
   ]
  },
  {
   "cell_type": "code",
   "execution_count": 20,
   "id": "e1982dc2-5620-4140-bf26-4a5d27d18349",
   "metadata": {},
   "outputs": [
    {
     "name": "stdout",
     "output_type": "stream",
     "text": [
      "(1280, 160)\n",
      "train_score： 0.9979166666666667\n",
      "test_score： 0.634375\n"
     ]
    }
   ],
   "source": [
    "X = data_x\n",
    "from sklearn import preprocessing\n",
    "min_max_scaler = preprocessing.MinMaxScaler()\n",
    "X=min_max_scaler.fit_transform(X)\n",
    "print(X.shape)\n",
    "from sklearn.model_selection import train_test_split\n",
    "X_train, X_test, y_train, y_test = train_test_split(data_x, label_y)\n",
    "from sklearn.ensemble import RandomForestClassifier\n",
    "rf=RandomForestClassifier(n_estimators=50,max_depth=20,min_samples_split=5)\n",
    "rf=rf.fit(X_train, y_train)\n",
    "train_score=rf.score(X_train,y_train)\n",
    "test_score=rf.score(X_test,y_test)\n",
    "print(\"train_score：\", train_score)\n",
    "print(\"test_score：\", test_score)\n",
    "trainscores.append(train_score)\n",
    "testscores.append(test_score)"
   ]
  },
  {
   "cell_type": "code",
   "execution_count": 21,
   "id": "76495eec-4d81-4e9c-88cb-350e78ba6d59",
   "metadata": {},
   "outputs": [
    {
     "name": "stdout",
     "output_type": "stream",
     "text": [
      "(1280, 13041)\n",
      "train_score： 0.5739583333333333\n",
      "test_score： 0.58125\n"
     ]
    },
    {
     "name": "stderr",
     "output_type": "stream",
     "text": [
      "/Library/Frameworks/Python.framework/Versions/3.12/lib/python3.12/site-packages/sklearn/preprocessing/_data.py:261: UserWarning: Numerical issues were encountered when centering the data and might not be solved. Dataset may contain too large values. You may need to prescale your features.\n",
      "  warnings.warn(\n"
     ]
    }
   ],
   "source": [
    "X = data_x\n",
    "from sklearn import preprocessing\n",
    "poly = preprocessing.PolynomialFeatures(degree=2)\n",
    "X = poly.fit_transform(X)\n",
    "X=preprocessing.scale(X)\n",
    "print(X.shape)\n",
    "from sklearn.model_selection import train_test_split\n",
    "X_train, X_test, y_train, y_test = train_test_split(data_x, label_y)\n",
    "from sklearn.svm import SVC\n",
    "svc = SVC(kernel='rbf',C = 0.1)\n",
    "svc.fit(X_train, y_train)\n",
    "train_score=svc.score(X_train,y_train)\n",
    "test_score=svc.score(X_test,y_test)\n",
    "print(\"train_score：\", train_score)\n",
    "print(\"test_score：\", test_score)\n",
    "trainscores.append(train_score)\n",
    "testscores.append(test_score)"
   ]
  },
  {
   "cell_type": "code",
   "execution_count": 22,
   "id": "1808acc0-e1bd-4881-bbbd-3aa314ce6700",
   "metadata": {},
   "outputs": [
    {
     "data": {
      "image/png": "[encoded data removed]",
      "text/plain": [
       "<Figure size 640x480 with 1 Axes>"
      ]
     },
     "metadata": {},
     "output_type": "display_data"
    }
   ],
   "source": [
    "model_name = [\"KNN\",\"SVM\",\"Dtree\",\"Random Forest\"]\n",
    "import matplotlib.pyplot as plt\n",
    "plt.title('Model Score', fontsize=16)\n",
    "plt.xlabel('model', fontsize=14)\n",
    "plt.ylabel('score', fontsize=14)\n",
    "plt.grid(linestyle=':', axis='y')\n",
    "x = np.arange(4)\n",
    "a = plt.bar(x - 0.3, trainscores, 0.3, color='blue', label='train', align='center')\n",
    "b = plt.bar(x, testscores, 0.3, color='pink', label='test', align='center')\n",
    "# Set up labels\n",
    "for i in a + b:\n",
    "    h = i.get_height()\n",
    "    plt.text(i.get_x() + i.get_width() / 2, h, '%.3f' % h, ha='center', va='bottom')\n",
    "plt.xticks(x,model_name,rotation=75)\n",
    "plt.legend(loc='lower right')\n",
    "plt.show()"
   ]
  },
  {
   "cell_type": "code",
   "execution_count": 23,
   "id": "2c73d524-d625-4595-810f-9cf217d650bf",
   "metadata": {},
   "outputs": [
    {
     "name": "stdout",
     "output_type": "stream",
     "text": [
      "Requirement already satisfied: keras in /Library/Frameworks/Python.framework/Versions/3.12/lib/python3.12/site-packages (3.6.0)\n",
      "Requirement already satisfied: absl-py in /Library/Frameworks/Python.framework/Versions/3.12/lib/python3.12/site-packages (from keras) (2.1.0)\n",
      "Requirement already satisfied: numpy in /Library/Frameworks/Python.framework/Versions/3.12/lib/python3.12/site-packages (from keras) (1.26.4)\n",
      "Requirement already satisfied: rich in /Library/Frameworks/Python.framework/Versions/3.12/lib/python3.12/site-packages (from keras) (13.9.2)\n",
      "Requirement already satisfied: namex in /Library/Frameworks/Python.framework/Versions/3.12/lib/python3.12/site-packages (from keras) (0.0.8)\n",
      "Requirement already satisfied: h5py in /Library/Frameworks/Python.framework/Versions/3.12/lib/python3.12/site-packages (from keras) (3.12.1)\n",
      "Requirement already satisfied: optree in /Library/Frameworks/Python.framework/Versions/3.12/lib/python3.12/site-packages (from keras) (0.13.0)\n",
      "Requirement already satisfied: ml-dtypes in /Library/Frameworks/Python.framework/Versions/3.12/lib/python3.12/site-packages (from keras) (0.4.1)\n",
      "Requirement already satisfied: packaging in /Library/Frameworks/Python.framework/Versions/3.12/lib/python3.12/site-packages (from keras) (24.1)\n",
      "Requirement already satisfied: typing-extensions>=4.5.0 in /Library/Frameworks/Python.framework/Versions/3.12/lib/python3.12/site-packages (from optree->keras) (4.12.2)\n",
      "Requirement already satisfied: markdown-it-py>=2.2.0 in /Library/Frameworks/Python.framework/Versions/3.12/lib/python3.12/site-packages (from rich->keras) (3.0.0)\n",
      "Requirement already satisfied: pygments<3.0.0,>=2.13.0 in /Library/Frameworks/Python.framework/Versions/3.12/lib/python3.12/site-packages (from rich->keras) (2.18.0)\n",
      "Requirement already satisfied: mdurl~=0.1 in /Library/Frameworks/Python.framework/Versions/3.12/lib/python3.12/site-packages (from markdown-it-py>=2.2.0->rich->keras) (0.1.2)\n",
      "Note: you may need to restart the kernel to use updated packages.\n"
     ]
    }
   ],
   "source": [
    "pip install keras"
   ]
  },
  {
   "cell_type": "code",
   "execution_count": 24,
   "id": "421040d0-6698-4f20-b9a5-322fceebfbdd",
   "metadata": {},
   "outputs": [
    {
     "name": "stdout",
     "output_type": "stream",
     "text": [
      "Requirement already satisfied: tensorflow in /Library/Frameworks/Python.framework/Versions/3.12/lib/python3.12/site-packages (2.17.0)\n",
      "Requirement already satisfied: absl-py>=1.0.0 in /Library/Frameworks/Python.framework/Versions/3.12/lib/python3.12/site-packages (from tensorflow) (2.1.0)\n",
      "Requirement already satisfied: astunparse>=1.6.0 in /Library/Frameworks/Python.framework/Versions/3.12/lib/python3.12/site-packages (from tensorflow) (1.6.3)\n",
      "Requirement already satisfied: flatbuffers>=24.3.25 in /Library/Frameworks/Python.framework/Versions/3.12/lib/python3.12/site-packages (from tensorflow) (24.3.25)\n",
      "Requirement already satisfied: gast!=0.5.0,!=0.5.1,!=0.5.2,>=0.2.1 in /Library/Frameworks/Python.framework/Versions/3.12/lib/python3.12/site-packages (from tensorflow) (0.6.0)\n",
      "Requirement already satisfied: google-pasta>=0.1.1 in /Library/Frameworks/Python.framework/Versions/3.12/lib/python3.12/site-packages (from tensorflow) (0.2.0)\n",
      "Requirement already satisfied: h5py>=3.10.0 in /Library/Frameworks/Python.framework/Versions/3.12/lib/python3.12/site-packages (from tensorflow) (3.12.1)\n",
      "Requirement already satisfied: libclang>=13.0.0 in /Library/Frameworks/Python.framework/Versions/3.12/lib/python3.12/site-packages (from tensorflow) (18.1.1)\n",
      "Requirement already satisfied: ml-dtypes<0.5.0,>=0.3.1 in /Library/Frameworks/Python.framework/Versions/3.12/lib/python3.12/site-packages (from tensorflow) (0.4.1)\n",
      "Requirement already satisfied: opt-einsum>=2.3.2 in /Library/Frameworks/Python.framework/Versions/3.12/lib/python3.12/site-packages (from tensorflow) (3.4.0)\n",
      "Requirement already satisfied: packaging in /Library/Frameworks/Python.framework/Versions/3.12/lib/python3.12/site-packages (from tensorflow) (24.1)\n",
      "Requirement already satisfied: protobuf!=4.21.0,!=4.21.1,!=4.21.2,!=4.21.3,!=4.21.4,!=4.21.5,<5.0.0dev,>=3.20.3 in /Library/Frameworks/Python.framework/Versions/3.12/lib/python3.12/site-packages (from tensorflow) (4.25.5)\n",
      "Requirement already satisfied: requests<3,>=2.21.0 in /Library/Frameworks/Python.framework/Versions/3.12/lib/python3.12/site-packages (from tensorflow) (2.32.3)\n",
      "Requirement already satisfied: setuptools in /Library/Frameworks/Python.framework/Versions/3.12/lib/python3.12/site-packages (from tensorflow) (73.0.1)\n",
      "Requirement already satisfied: six>=1.12.0 in /Library/Frameworks/Python.framework/Versions/3.12/lib/python3.12/site-packages (from tensorflow) (1.16.0)\n",
      "Requirement already satisfied: termcolor>=1.1.0 in /Library/Frameworks/Python.framework/Versions/3.12/lib/python3.12/site-packages (from tensorflow) (2.5.0)\n",
      "Requirement already satisfied: typing-extensions>=3.6.6 in /Library/Frameworks/Python.framework/Versions/3.12/lib/python3.12/site-packages (from tensorflow) (4.12.2)\n",
      "Requirement already satisfied: wrapt>=1.11.0 in /Library/Frameworks/Python.framework/Versions/3.12/lib/python3.12/site-packages (from tensorflow) (1.16.0)\n",
      "Requirement already satisfied: grpcio<2.0,>=1.24.3 in /Library/Frameworks/Python.framework/Versions/3.12/lib/python3.12/site-packages (from tensorflow) (1.67.0)\n",
      "Requirement already satisfied: tensorboard<2.18,>=2.17 in /Library/Frameworks/Python.framework/Versions/3.12/lib/python3.12/site-packages (from tensorflow) (2.17.1)\n",
      "Requirement already satisfied: keras>=3.2.0 in /Library/Frameworks/Python.framework/Versions/3.12/lib/python3.12/site-packages (from tensorflow) (3.6.0)\n",
      "Requirement already satisfied: numpy<2.0.0,>=1.26.0 in /Library/Frameworks/Python.framework/Versions/3.12/lib/python3.12/site-packages (from tensorflow) (1.26.4)\n",
      "Requirement already satisfied: wheel<1.0,>=0.23.0 in /Library/Frameworks/Python.framework/Versions/3.12/lib/python3.12/site-packages (from astunparse>=1.6.0->tensorflow) (0.44.0)\n",
      "Requirement already satisfied: rich in /Library/Frameworks/Python.framework/Versions/3.12/lib/python3.12/site-packages (from keras>=3.2.0->tensorflow) (13.9.2)\n",
      "Requirement already satisfied: namex in /Library/Frameworks/Python.framework/Versions/3.12/lib/python3.12/site-packages (from keras>=3.2.0->tensorflow) (0.0.8)\n",
      "Requirement already satisfied: optree in /Library/Frameworks/Python.framework/Versions/3.12/lib/python3.12/site-packages (from keras>=3.2.0->tensorflow) (0.13.0)\n",
      "Requirement already satisfied: charset-normalizer<4,>=2 in /Library/Frameworks/Python.framework/Versions/3.12/lib/python3.12/site-packages (from requests<3,>=2.21.0->tensorflow) (3.3.2)\n",
      "Requirement already satisfied: idna<4,>=2.5 in /Library/Frameworks/Python.framework/Versions/3.12/lib/python3.12/site-packages (from requests<3,>=2.21.0->tensorflow) (3.7)\n",
      "Requirement already satisfied: urllib3<3,>=1.21.1 in /Library/Frameworks/Python.framework/Versions/3.12/lib/python3.12/site-packages (from requests<3,>=2.21.0->tensorflow) (2.2.2)\n",
      "Requirement already satisfied: certifi>=2017.4.17 in /Library/Frameworks/Python.framework/Versions/3.12/lib/python3.12/site-packages (from requests<3,>=2.21.0->tensorflow) (2024.7.4)\n",
      "Requirement already satisfied: markdown>=2.6.8 in /Library/Frameworks/Python.framework/Versions/3.12/lib/python3.12/site-packages (from tensorboard<2.18,>=2.17->tensorflow) (3.7)\n",
      "Requirement already satisfied: tensorboard-data-server<0.8.0,>=0.7.0 in /Library/Frameworks/Python.framework/Versions/3.12/lib/python3.12/site-packages (from tensorboard<2.18,>=2.17->tensorflow) (0.7.2)\n",
      "Requirement already satisfied: werkzeug>=1.0.1 in /Library/Frameworks/Python.framework/Versions/3.12/lib/python3.12/site-packages (from tensorboard<2.18,>=2.17->tensorflow) (3.0.4)\n",
      "Requirement already satisfied: MarkupSafe>=2.1.1 in /Library/Frameworks/Python.framework/Versions/3.12/lib/python3.12/site-packages (from werkzeug>=1.0.1->tensorboard<2.18,>=2.17->tensorflow) (2.1.5)\n",
      "Requirement already satisfied: markdown-it-py>=2.2.0 in /Library/Frameworks/Python.framework/Versions/3.12/lib/python3.12/site-packages (from rich->keras>=3.2.0->tensorflow) (3.0.0)\n",
      "Requirement already satisfied: pygments<3.0.0,>=2.13.0 in /Library/Frameworks/Python.framework/Versions/3.12/lib/python3.12/site-packages (from rich->keras>=3.2.0->tensorflow) (2.18.0)\n",
      "Requirement already satisfied: mdurl~=0.1 in /Library/Frameworks/Python.framework/Versions/3.12/lib/python3.12/site-packages (from markdown-it-py>=2.2.0->rich->keras>=3.2.0->tensorflow) (0.1.2)\n",
      "Note: you may need to restart the kernel to use updated packages.\n"
     ]
    }
   ],
   "source": [
    "pip install tensorflow"
   ]
  },
  {
   "cell_type": "code",
   "execution_count": 25,
   "id": "7a1eae8b-c9c7-4d55-9f85-971102afa8b6",
   "metadata": {},
   "outputs": [
    {
     "name": "stderr",
     "output_type": "stream",
     "text": [
      "/var/folders/4v/m7_zmbx51q1821mk6jcl41v40000gn/T/ipykernel_85381/187358374.py:46: DeprecationWarning: 'scipy.integrate.simps' is deprecated in favour of 'scipy.integrate.simpson' and will be removed in SciPy 1.14.0\n",
      "  bp = simps(psd[idx_band], dx=freq_res)\n"
     ]
    },
    {
     "name": "stdout",
     "output_type": "stream",
     "text": [
      "Epoch 1/10\n"
     ]
    },
    {
     "name": "stderr",
     "output_type": "stream",
     "text": [
      "/Library/Frameworks/Python.framework/Versions/3.12/lib/python3.12/site-packages/keras/src/layers/rnn/rnn.py:204: UserWarning: Do not pass an `input_shape`/`input_dim` argument to a layer. When using Sequential models, prefer using an `Input(shape)` object as the first layer in the model instead.\n",
      "  super().__init__(**kwargs)\n"
     ]
    },
    {
     "name": "stdout",
     "output_type": "stream",
     "text": [
      "\u001b[1m14/14\u001b[0m \u001b[32m━━━━━━━━━━━━━━━━━━━━\u001b[0m\u001b[37m\u001b[0m \u001b[1m1s\u001b[0m 8ms/step - accuracy: 0.5506 - loss: 0.6914\n",
      "Epoch 2/10\n",
      "\u001b[1m14/14\u001b[0m \u001b[32m━━━━━━━━━━━━━━━━━━━━\u001b[0m\u001b[37m\u001b[0m \u001b[1m0s\u001b[0m 8ms/step - accuracy: 0.5968 - loss: 0.6817\n",
      "Epoch 3/10\n",
      "\u001b[1m14/14\u001b[0m \u001b[32m━━━━━━━━━━━━━━━━━━━━\u001b[0m\u001b[37m\u001b[0m \u001b[1m0s\u001b[0m 7ms/step - accuracy: 0.5655 - loss: 0.6843\n",
      "Epoch 4/10\n",
      "\u001b[1m14/14\u001b[0m \u001b[32m━━━━━━━━━━━━━━━━━━━━\u001b[0m\u001b[37m\u001b[0m \u001b[1m0s\u001b[0m 7ms/step - accuracy: 0.5756 - loss: 0.6820\n",
      "Epoch 5/10\n",
      "\u001b[1m14/14\u001b[0m \u001b[32m━━━━━━━━━━━━━━━━━━━━\u001b[0m\u001b[37m\u001b[0m \u001b[1m0s\u001b[0m 7ms/step - accuracy: 0.5811 - loss: 0.6814\n",
      "Epoch 6/10\n",
      "\u001b[1m14/14\u001b[0m \u001b[32m━━━━━━━━━━━━━━━━━━━━\u001b[0m\u001b[37m\u001b[0m \u001b[1m0s\u001b[0m 9ms/step - accuracy: 0.5677 - loss: 0.6818\n",
      "Epoch 7/10\n",
      "\u001b[1m14/14\u001b[0m \u001b[32m━━━━━━━━━━━━━━━━━━━━\u001b[0m\u001b[37m\u001b[0m \u001b[1m0s\u001b[0m 8ms/step - accuracy: 0.5838 - loss: 0.6785\n",
      "Epoch 8/10\n",
      "\u001b[1m14/14\u001b[0m \u001b[32m━━━━━━━━━━━━━━━━━━━━\u001b[0m\u001b[37m\u001b[0m \u001b[1m0s\u001b[0m 7ms/step - accuracy: 0.5826 - loss: 0.6766\n",
      "Epoch 9/10\n",
      "\u001b[1m14/14\u001b[0m \u001b[32m━━━━━━━━━━━━━━━━━━━━\u001b[0m\u001b[37m\u001b[0m \u001b[1m0s\u001b[0m 10ms/step - accuracy: 0.5761 - loss: 0.6791\n",
      "Epoch 10/10\n",
      "\u001b[1m14/14\u001b[0m \u001b[32m━━━━━━━━━━━━━━━━━━━━\u001b[0m\u001b[37m\u001b[0m \u001b[1m0s\u001b[0m 7ms/step - accuracy: 0.5645 - loss: 0.6838\n",
      "\u001b[1m28/28\u001b[0m \u001b[32m━━━━━━━━━━━━━━━━━━━━\u001b[0m\u001b[37m\u001b[0m \u001b[1m0s\u001b[0m 1ms/step - accuracy: 0.5751 - loss: 0.6782 \n",
      "\u001b[1m12/12\u001b[0m \u001b[32m━━━━━━━━━━━━━━━━━━━━\u001b[0m\u001b[37m\u001b[0m \u001b[1m0s\u001b[0m 2ms/step - accuracy: 0.5621 - loss: 0.6885\n"
     ]
    }
   ],
   "source": [
    "import numpy as np\n",
    "import pickle\n",
    "import pandas as pd\n",
    "from sklearn.model_selection import train_test_split\n",
    "from sklearn.preprocessing import PolynomialFeatures, MinMaxScaler, normalize\n",
    "from sklearn.decomposition import PCA\n",
    "from sklearn.neighbors import KNeighborsClassifier\n",
    "from sklearn import tree\n",
    "from sklearn.ensemble import RandomForestClassifier\n",
    "from sklearn.svm import SVC\n",
    "from matplotlib import pyplot as plt\n",
    "from scipy.signal import welch\n",
    "from scipy.integrate import simps\n",
    "from keras.models import Sequential\n",
    "from keras.layers import LSTM, Bidirectional, Dense, Dropout\n",
    "from keras.optimizers import Adam\n",
    "\n",
    "def read_data(filename):\n",
    "    x = pickle._Unpickler(open(filename, 'rb'))\n",
    "    x.encoding = 'latin1'\n",
    "    data = x.load()\n",
    "    return data\n",
    "\n",
    "files = []\n",
    "for n in range(1, 33):\n",
    "    s = f\"{n:02d}\"\n",
    "    files.append(s)\n",
    "\n",
    "labels = []\n",
    "data = []\n",
    "for i in files:\n",
    "    fileph = \"data_preprocessed_python/s\" + i + \".dat\"\n",
    "    d = read_data(fileph)\n",
    "    labels.append(d['labels'])\n",
    "    data.append(d['data'])\n",
    "labels = np.array(labels).reshape(1280, 4)\n",
    "data = np.array(data).reshape(1280, 40, 8064)\n",
    "eeg_data = data[:,:32,:]\n",
    "def bandpower(data, sf, band):\n",
    "    band = np.asarray(band)\n",
    "    low, high = band\n",
    "    nperseg = (2 / low) * sf\n",
    "    freqs, psd = welch(data, sf, nperseg=nperseg)\n",
    "    freq_res = freqs[1] - freqs[0]\n",
    "    idx_band = np.logical_and(freqs >= low, freqs <= high)\n",
    "    bp = simps(psd[idx_band], dx=freq_res)\n",
    "    return bp\n",
    "\n",
    "def get_band_power(people, channel, band):\n",
    "    bd = {\"delta\": (0.5, 4), \"theta\": (4, 8), \"alpha\": (8, 12), \"beta\": (12, 30), \"gamma\": (30, 64)}\n",
    "    return bandpower(eeg_data[people, channel], 128, bd[band])\n",
    "eeg_band = []\n",
    "for i in range(len(eeg_data)):\n",
    "    for j in range(len(eeg_data[0])):\n",
    "        eeg_band.append([get_band_power(i, j, b) for b in [\"delta\", \"theta\", \"alpha\", \"beta\", \"gamma\"]])\n",
    "eeg_band = np.array(eeg_band).reshape((1280, 160))\n",
    "labels_arousal = (labels[:, 1] > 5).astype(int)\n",
    "X = eeg_band\n",
    "y = labels_arousal\n",
    "X_train, X_test, y_train, y_test = train_test_split(X, y, test_size=0.3, random_state=42)\n",
    "min_max_scaler = MinMaxScaler()\n",
    "X_train = min_max_scaler.fit_transform(X_train)\n",
    "X_test = min_max_scaler.transform(X_test)\n",
    "def build_lstm(input_shape):\n",
    "    model = Sequential()\n",
    "    model.add(LSTM(64, return_sequences=False, input_shape=input_shape))\n",
    "    model.add(Dropout(0.5))\n",
    "    model.add(Dense(1, activation='sigmoid'))\n",
    "    model.compile(optimizer=Adam(), loss='binary_crossentropy', metrics=['accuracy'])\n",
    "    return model\n",
    "def build_bilstm(input_shape):\n",
    "    model = Sequential()\n",
    "    model.add(Bidirectional(LSTM(64, return_sequences=False), input_shape=input_shape))\n",
    "    model.add(Dropout(0.5))\n",
    "    model.add(Dense(1, activation='sigmoid'))\n",
    "    model.compile(optimizer=Adam(), loss='binary_crossentropy', metrics=['accuracy'])\n",
    "    return model\n",
    "X_train_lstm = X_train.reshape((X_train.shape[0], 32, 5))  # 32 channels, 5 bands\n",
    "X_test_lstm = X_test.reshape((X_test.shape[0], 32, 5))\n",
    "lstm_model = build_lstm((32, 5))\n",
    "lstm_model.fit(X_train_lstm, y_train, epochs=10, batch_size=64, verbose=1)\n",
    "lstm_train_score = lstm_model.evaluate(X_train_lstm, y_train)[1]\n",
    "lstm_test_score = lstm_model.evaluate(X_test_lstm, y_test)[1]"
   ]
  },
  {
   "cell_type": "code",
   "execution_count": 27,
   "id": "27f4747e-9164-4fc6-8ac7-85226eb86fae",
   "metadata": {},
   "outputs": [
    {
     "name": "stdout",
     "output_type": "stream",
     "text": [
      "\n",
      "Classification Report for KNN:\n",
      "\n",
      "              precision    recall  f1-score   support\n",
      "\n",
      "           0       0.55      0.50      0.52       131\n",
      "           1       0.67      0.71      0.69       189\n",
      "\n",
      "    accuracy                           0.62       320\n",
      "   macro avg       0.61      0.61      0.61       320\n",
      "weighted avg       0.62      0.62      0.62       320\n",
      "\n",
      "\n",
      "Classification Report for SVM:\n",
      "\n",
      "              precision    recall  f1-score   support\n",
      "\n",
      "           0       0.00      0.00      0.00       131\n",
      "           1       0.59      1.00      0.74       189\n",
      "\n",
      "    accuracy                           0.59       320\n",
      "   macro avg       0.30      0.50      0.37       320\n",
      "weighted avg       0.35      0.59      0.44       320\n",
      "\n",
      "\n",
      "Classification Report for Decision Tree:\n",
      "\n",
      "              precision    recall  f1-score   support\n",
      "\n",
      "           0       0.46      0.47      0.46       131\n",
      "           1       0.63      0.62      0.63       189\n",
      "\n",
      "    accuracy                           0.56       320\n",
      "   macro avg       0.54      0.54      0.54       320\n",
      "weighted avg       0.56      0.56      0.56       320\n",
      "\n",
      "\n",
      "Classification Report for Random Forest:\n",
      "\n",
      "              precision    recall  f1-score   support\n",
      "\n",
      "           0       0.57      0.50      0.53       131\n",
      "           1       0.68      0.74      0.71       189\n",
      "\n",
      "    accuracy                           0.64       320\n",
      "   macro avg       0.62      0.62      0.62       320\n",
      "weighted avg       0.63      0.64      0.64       320\n",
      "\n"
     ]
    },
    {
     "data": {
      "image/png": "[encoded data removed]",
      "text/plain": [
       "<Figure size 640x480 with 1 Axes>"
      ]
     },
     "metadata": {},
     "output_type": "display_data"
    }
   ],
   "source": [
    "import pickle\n",
    "import numpy as np\n",
    "import pandas as pd\n",
    "import math\n",
    "from scipy.signal import butter, lfilter, welch\n",
    "from scipy.integrate import simps\n",
    "from sklearn import preprocessing\n",
    "from sklearn.decomposition import PCA\n",
    "from sklearn.model_selection import train_test_split\n",
    "from sklearn.linear_model import LogisticRegression\n",
    "from sklearn.neighbors import KNeighborsClassifier\n",
    "from sklearn.tree import DecisionTreeClassifier\n",
    "from sklearn.ensemble import RandomForestClassifier\n",
    "from sklearn.svm import SVC\n",
    "from sklearn.metrics import classification_report  # Importing classification_report\n",
    "import matplotlib.pyplot as plt\n",
    "\n",
    "# Assuming all previous code (data reading, processing, feature extraction) is present here...\n",
    "\n",
    "# Prepare data_x and label_y\n",
    "data_x = eeg_band\n",
    "label_y = labels_arousal\n",
    "\n",
    "# Preprocess Data\n",
    "min_max_scaler = preprocessing.MinMaxScaler()\n",
    "data_x = min_max_scaler.fit_transform(data_x)\n",
    "\n",
    "# Apply PCA\n",
    "pca = PCA(n_components=100)\n",
    "data_x = pca.fit_transform(data_x)\n",
    "\n",
    "# Train-Test Split\n",
    "X_train, X_test, y_train, y_test = train_test_split(data_x, label_y)\n",
    "\n",
    "# List to store train and test scores\n",
    "trainscores = []\n",
    "testscores = []\n",
    "\n",
    "# Function to train and evaluate a model\n",
    "def train_and_evaluate_model(model, X_train, y_train, X_test, y_test, model_name):\n",
    "    model.fit(X_train, y_train)\n",
    "    train_score = model.score(X_train, y_train)\n",
    "    test_score = model.score(X_test, y_test)\n",
    "\n",
    "    # Predictions for classification report\n",
    "    y_pred = model.predict(X_test)\n",
    "    print(f\"\\nClassification Report for {model_name}:\\n\")\n",
    "    print(classification_report(y_test, y_pred, zero_division=0))\n",
    "\n",
    "    # Append scores to lists\n",
    "    trainscores.append(train_score)\n",
    "    testscores.append(test_score)\n",
    "\n",
    "# KNN Classifier\n",
    "knn = KNeighborsClassifier(n_neighbors=7)\n",
    "train_and_evaluate_model(knn, X_train, y_train, X_test, y_test, \"KNN\")\n",
    "\n",
    "# SVM Classifier\n",
    "svc = SVC(kernel='rbf', C=0.1)\n",
    "train_and_evaluate_model(svc, X_train, y_train, X_test, y_test, \"SVM\")\n",
    "\n",
    "# Decision Tree Classifier\n",
    "dtree = DecisionTreeClassifier(max_depth=20, min_samples_split=4)\n",
    "train_and_evaluate_model(dtree, X_train, y_train, X_test, y_test, \"Decision Tree\")\n",
    "\n",
    "# Random Forest Classifier\n",
    "rf = RandomForestClassifier(n_estimators=50, max_depth=20, min_samples_split=5)\n",
    "train_and_evaluate_model(rf, X_train, y_train, X_test, y_test, \"Random Forest\")\n",
    "\n",
    "\n",
    "# Plot Results\n",
    "model_name = [\"KNN\", \"SVM\", \"Decision Tree\", \"Random Forest\"]\n",
    "\n",
    "plt.title('Model Score', fontsize=16)\n",
    "plt.xlabel('Model', fontsize=14)\n",
    "plt.ylabel('Score', fontsize=14)\n",
    "plt.grid(linestyle=':', axis='y')\n",
    "x = np.arange(len(model_name))\n",
    "\n",
    "# Bar plot for training and testing scores\n",
    "a = plt.bar(x - 0.3, trainscores, 0.3, color='blue', label='Train', align='center')\n",
    "b = plt.bar(x, testscores, 0.3, color='pink', label='Test', align='center')\n",
    "\n",
    "# Set up labels\n",
    "for i in a + b:\n",
    "    h = i.get_height()\n",
    "    plt.text(i.get_x() + i.get_width() / 2, h, '%.3f' % h, ha='center', va='bottom')\n",
    "\n",
    "plt.xticks(x, model_name, rotation=75)\n",
    "plt.legend(loc='lower right')\n",
    "plt.show()\n"
   ]
  },
  {
   "cell_type": "code",
   "execution_count": null,
   "id": "bf71c2f2-b8ef-493a-af15-42630a7c32a8",
   "metadata": {},
   "outputs": [],
   "source": []
  }
 ],
 "metadata": {
  "kernelspec": {
   "display_name": "Python 3 (ipykernel)",
   "language": "python",
   "name": "python3"
  },
  "language_info": {
   "codemirror_mode": {
    "name": "ipython",
    "version": 3
   },
   "file_extension": ".py",
   "mimetype": "text/x-python",
   "name": "python",
   "nbconvert_exporter": "python",
   "pygments_lexer": "ipython3",
   "version": "3.12.4"
  }
 },
 "nbformat": 4,
 "nbformat_minor": 5
}
